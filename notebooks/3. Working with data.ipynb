{
 "cells": [
  {
   "cell_type": "code",
   "execution_count": 49,
   "outputs": [
    {
     "name": "stdout",
     "output_type": "stream",
     "text": [
      "The autoreload extension is already loaded. To reload it, use:\n",
      "  %reload_ext autoreload\n"
     ]
    }
   ],
   "source": [
    "%load_ext autoreload\n",
    "%autoreload 2"
   ],
   "metadata": {
    "collapsed": false,
    "pycharm": {
     "name": "#%%\n"
    }
   }
  },
  {
   "cell_type": "code",
   "execution_count": 50,
   "outputs": [],
   "source": [
    "from source.data import SimplificationDataModule\n",
    "from conf import TURKCORPUS_DATASET"
   ],
   "metadata": {
    "collapsed": false,
    "pycharm": {
     "name": "#%%\n"
    }
   }
  },
  {
   "cell_type": "code",
   "execution_count": 51,
   "outputs": [],
   "source": [
    "config = dict(\n",
    "        model_name='t5-small',\n",
    "        dataset_path=TURKCORPUS_DATASET,\n",
    "        number_epochs=1,\n",
    "        max_seq_length=256,\n",
    "        learning_rate=3e-4,\n",
    "        weight_decay=0.1,\n",
    "        adam_epsilon=1e-8,\n",
    "        warmup_steps=5,\n",
    "        train_batch_size=6,\n",
    "        valid_batch_size=6,\n",
    "        custom_loss=False,\n",
    "        gradient_accumulation_steps=1,\n",
    "        accelerator=\"gpu\",\n",
    "        fp_16=False,\n",
    "        opt_level='O1',\n",
    "        max_grad_norm=1.0,\n",
    "        seed=42,\n",
    "        nb_sanity_val_steps=0,\n",
    "        train_sample_size=1,\n",
    "        valid_sample_size=1,\n",
    "        device=\"cuda\"                   # \"cuda\" or \"cpu\"\n",
    "    )"
   ],
   "metadata": {
    "collapsed": false,
    "pycharm": {
     "name": "#%%\n"
    }
   }
  },
  {
   "cell_type": "code",
   "execution_count": 52,
   "outputs": [],
   "source": [
    "features = dict(\n",
    "        WordLengthRatio=dict(target_ratio=0.75),\n",
    "        CharLengthRatio=dict(target_ratio=0.6),\n",
    "        LevenshteinRatio=dict(target_ratio=0.6),\n",
    "        DependencyTreeDepthRatio=dict(target_ratio=0.95),\n",
    "        LMFillMaskRatio=dict(target_ratio=0.75)\n",
    "    )"
   ],
   "metadata": {
    "collapsed": false,
    "pycharm": {
     "name": "#%%\n"
    }
   }
  },
  {
   "cell_type": "code",
   "execution_count": 53,
   "outputs": [
    {
     "name": "stderr",
     "output_type": "stream",
     "text": [
      "C:\\Users\\Antonio\\PycharmProjects\\Simplification_experiments\\venv\\lib\\site-packages\\transformers\\models\\t5\\tokenization_t5_fast.py:156: FutureWarning: This tokenizer was incorrectly instantiated with a model max length of 512 which will be corrected in Transformers v5.\n",
      "For now, this behavior is kept to avoid breaking backwards compatibility when padding/encoding with `truncation is True`.\n",
      "- Be aware that you SHOULD NOT rely on t5-small automatically truncating your input to 512 when padding/encoding.\n",
      "- If you want to encode/pad to sequences longer than 512 you can either instantiate this tokenizer with `model_max_length` or pass `max_length` when encoding/padding.\n",
      "- To avoid this warning, please instantiate this tokenizer with `model_max_length` set to your preferred value.\n",
      "  warnings.warn(\n"
     ]
    }
   ],
   "source": [
    "dm = SimplificationDataModule(config.get(\"model_name\"),\n",
    "                              config.get(\"dataset_path\"),\n",
    "                              features,\n",
    "                              config.get(\"max_seq_length\"),\n",
    "                              config.get(\"train_batch_size\"),\n",
    "                              config.get(\"valid_batch_size\")\n",
    "                            )"
   ],
   "metadata": {
    "collapsed": false,
    "pycharm": {
     "name": "#%%\n"
    }
   }
  },
  {
   "cell_type": "code",
   "execution_count": 54,
   "outputs": [
    {
     "name": "stderr",
     "output_type": "stream",
     "text": [
      "2022-07-25 17:24:18,554 - source.data - INFO - Loading dataset\n",
      "2022-07-25 17:24:18,554 - source.data - INFO - Loading dataset\n",
      "2022-07-25 17:24:18,554 - source.data - INFO - Loading dataset\n",
      "2022-07-25 17:24:18,554 - source.data - INFO - Loading dataset\n",
      "2022-07-25 17:24:18,554 - source.data - INFO - Loading dataset\n",
      "2022-07-25 17:24:18,554 - source.data - INFO - Loading dataset\n",
      "2022-07-25 17:24:18,554 - source.data - INFO - Loading dataset\n",
      "2022-07-25 17:24:18,554 - source.data - INFO - Loading dataset\n",
      "2022-07-25 17:24:18,576 - source.data - INFO - Calculating features\n",
      "2022-07-25 17:24:18,576 - source.data - INFO - Calculating features\n",
      "2022-07-25 17:24:18,576 - source.data - INFO - Calculating features\n",
      "2022-07-25 17:24:18,576 - source.data - INFO - Calculating features\n",
      "2022-07-25 17:24:18,576 - source.data - INFO - Calculating features\n",
      "2022-07-25 17:24:18,576 - source.data - INFO - Calculating features\n",
      "2022-07-25 17:24:18,576 - source.data - INFO - Calculating features\n",
      "2022-07-25 17:24:18,576 - source.data - INFO - Calculating features\n",
      "2022-07-25 17:24:18,580 - source.data - INFO - Calculating split: valid\n",
      "2022-07-25 17:24:18,580 - source.data - INFO - Calculating split: valid\n",
      "2022-07-25 17:24:18,580 - source.data - INFO - Calculating split: valid\n",
      "2022-07-25 17:24:18,580 - source.data - INFO - Calculating split: valid\n",
      "2022-07-25 17:24:18,580 - source.data - INFO - Calculating split: valid\n",
      "2022-07-25 17:24:18,580 - source.data - INFO - Calculating split: valid\n",
      "2022-07-25 17:24:18,580 - source.data - INFO - Calculating split: valid\n",
      "2022-07-25 17:24:18,580 - source.data - INFO - Calculating split: valid\n",
      "2022-07-25 17:24:18,585 - source.data - INFO - Calculating feature: CharLengthRatio\n",
      "2022-07-25 17:24:18,585 - source.data - INFO - Calculating feature: CharLengthRatio\n",
      "2022-07-25 17:24:18,585 - source.data - INFO - Calculating feature: CharLengthRatio\n",
      "2022-07-25 17:24:18,585 - source.data - INFO - Calculating feature: CharLengthRatio\n",
      "2022-07-25 17:24:18,585 - source.data - INFO - Calculating feature: CharLengthRatio\n",
      "2022-07-25 17:24:18,585 - source.data - INFO - Calculating feature: CharLengthRatio\n",
      "2022-07-25 17:24:18,585 - source.data - INFO - Calculating feature: CharLengthRatio\n",
      "2022-07-25 17:24:18,585 - source.data - INFO - Calculating feature: CharLengthRatio\n"
     ]
    },
    {
     "data": {
      "text/plain": "  0%|          | 0/359 [00:00<?, ?ex/s]",
      "application/vnd.jupyter.widget-view+json": {
       "version_major": 2,
       "version_minor": 0,
       "model_id": "5f78c508e1db42febf83d3a4c264b294"
      }
     },
     "metadata": {},
     "output_type": "display_data"
    },
    {
     "name": "stderr",
     "output_type": "stream",
     "text": [
      "2022-07-25 17:24:18,668 - source.data - INFO - Feature: CharLengthRatio calculated.\n",
      "2022-07-25 17:24:18,668 - source.data - INFO - Feature: CharLengthRatio calculated.\n",
      "2022-07-25 17:24:18,668 - source.data - INFO - Feature: CharLengthRatio calculated.\n",
      "2022-07-25 17:24:18,668 - source.data - INFO - Feature: CharLengthRatio calculated.\n",
      "2022-07-25 17:24:18,668 - source.data - INFO - Feature: CharLengthRatio calculated.\n",
      "2022-07-25 17:24:18,668 - source.data - INFO - Feature: CharLengthRatio calculated.\n",
      "2022-07-25 17:24:18,668 - source.data - INFO - Feature: CharLengthRatio calculated.\n",
      "2022-07-25 17:24:18,668 - source.data - INFO - Feature: CharLengthRatio calculated.\n",
      "2022-07-25 17:24:18,674 - source.data - INFO - Calculating feature: DependencyTreeDepthRatio\n",
      "2022-07-25 17:24:18,674 - source.data - INFO - Calculating feature: DependencyTreeDepthRatio\n",
      "2022-07-25 17:24:18,674 - source.data - INFO - Calculating feature: DependencyTreeDepthRatio\n",
      "2022-07-25 17:24:18,674 - source.data - INFO - Calculating feature: DependencyTreeDepthRatio\n",
      "2022-07-25 17:24:18,674 - source.data - INFO - Calculating feature: DependencyTreeDepthRatio\n",
      "2022-07-25 17:24:18,674 - source.data - INFO - Calculating feature: DependencyTreeDepthRatio\n",
      "2022-07-25 17:24:18,674 - source.data - INFO - Calculating feature: DependencyTreeDepthRatio\n",
      "2022-07-25 17:24:18,674 - source.data - INFO - Calculating feature: DependencyTreeDepthRatio\n"
     ]
    },
    {
     "data": {
      "text/plain": "  0%|          | 0/359 [00:00<?, ?ex/s]",
      "application/vnd.jupyter.widget-view+json": {
       "version_major": 2,
       "version_minor": 0,
       "model_id": "e8ed7b768825463aa6f510f860dcf3e3"
      }
     },
     "metadata": {},
     "output_type": "display_data"
    },
    {
     "name": "stderr",
     "output_type": "stream",
     "text": [
      "2022-07-25 17:24:18,756 - source.data - INFO - Feature: DependencyTreeDepthRatio calculated.\n",
      "2022-07-25 17:24:18,756 - source.data - INFO - Feature: DependencyTreeDepthRatio calculated.\n",
      "2022-07-25 17:24:18,756 - source.data - INFO - Feature: DependencyTreeDepthRatio calculated.\n",
      "2022-07-25 17:24:18,756 - source.data - INFO - Feature: DependencyTreeDepthRatio calculated.\n",
      "2022-07-25 17:24:18,756 - source.data - INFO - Feature: DependencyTreeDepthRatio calculated.\n",
      "2022-07-25 17:24:18,756 - source.data - INFO - Feature: DependencyTreeDepthRatio calculated.\n",
      "2022-07-25 17:24:18,756 - source.data - INFO - Feature: DependencyTreeDepthRatio calculated.\n",
      "2022-07-25 17:24:18,756 - source.data - INFO - Feature: DependencyTreeDepthRatio calculated.\n",
      "2022-07-25 17:24:18,761 - source.data - INFO - Calculating feature: LMFillMaskRatio\n",
      "2022-07-25 17:24:18,761 - source.data - INFO - Calculating feature: LMFillMaskRatio\n",
      "2022-07-25 17:24:18,761 - source.data - INFO - Calculating feature: LMFillMaskRatio\n",
      "2022-07-25 17:24:18,761 - source.data - INFO - Calculating feature: LMFillMaskRatio\n",
      "2022-07-25 17:24:18,761 - source.data - INFO - Calculating feature: LMFillMaskRatio\n",
      "2022-07-25 17:24:18,761 - source.data - INFO - Calculating feature: LMFillMaskRatio\n",
      "2022-07-25 17:24:18,761 - source.data - INFO - Calculating feature: LMFillMaskRatio\n",
      "2022-07-25 17:24:18,761 - source.data - INFO - Calculating feature: LMFillMaskRatio\n"
     ]
    },
    {
     "data": {
      "text/plain": "  0%|          | 0/359 [00:00<?, ?ex/s]",
      "application/vnd.jupyter.widget-view+json": {
       "version_major": 2,
       "version_minor": 0,
       "model_id": "f697fa77c77249d395f4ab960cfbcdb6"
      }
     },
     "metadata": {},
     "output_type": "display_data"
    },
    {
     "name": "stderr",
     "output_type": "stream",
     "text": [
      "2022-07-25 17:24:18,846 - source.data - INFO - Feature: LMFillMaskRatio calculated.\n",
      "2022-07-25 17:24:18,846 - source.data - INFO - Feature: LMFillMaskRatio calculated.\n",
      "2022-07-25 17:24:18,846 - source.data - INFO - Feature: LMFillMaskRatio calculated.\n",
      "2022-07-25 17:24:18,846 - source.data - INFO - Feature: LMFillMaskRatio calculated.\n",
      "2022-07-25 17:24:18,846 - source.data - INFO - Feature: LMFillMaskRatio calculated.\n",
      "2022-07-25 17:24:18,846 - source.data - INFO - Feature: LMFillMaskRatio calculated.\n",
      "2022-07-25 17:24:18,846 - source.data - INFO - Feature: LMFillMaskRatio calculated.\n",
      "2022-07-25 17:24:18,846 - source.data - INFO - Feature: LMFillMaskRatio calculated.\n",
      "2022-07-25 17:24:18,851 - source.data - INFO - Calculating feature: LevenshteinRatio\n",
      "2022-07-25 17:24:18,851 - source.data - INFO - Calculating feature: LevenshteinRatio\n",
      "2022-07-25 17:24:18,851 - source.data - INFO - Calculating feature: LevenshteinRatio\n",
      "2022-07-25 17:24:18,851 - source.data - INFO - Calculating feature: LevenshteinRatio\n",
      "2022-07-25 17:24:18,851 - source.data - INFO - Calculating feature: LevenshteinRatio\n",
      "2022-07-25 17:24:18,851 - source.data - INFO - Calculating feature: LevenshteinRatio\n",
      "2022-07-25 17:24:18,851 - source.data - INFO - Calculating feature: LevenshteinRatio\n",
      "2022-07-25 17:24:18,851 - source.data - INFO - Calculating feature: LevenshteinRatio\n"
     ]
    },
    {
     "data": {
      "text/plain": "  0%|          | 0/359 [00:00<?, ?ex/s]",
      "application/vnd.jupyter.widget-view+json": {
       "version_major": 2,
       "version_minor": 0,
       "model_id": "fe4ddb81304a48f187c23416dd0f09a9"
      }
     },
     "metadata": {},
     "output_type": "display_data"
    },
    {
     "name": "stderr",
     "output_type": "stream",
     "text": [
      "2022-07-25 17:24:18,929 - source.data - INFO - Feature: LevenshteinRatio calculated.\n",
      "2022-07-25 17:24:18,929 - source.data - INFO - Feature: LevenshteinRatio calculated.\n",
      "2022-07-25 17:24:18,929 - source.data - INFO - Feature: LevenshteinRatio calculated.\n",
      "2022-07-25 17:24:18,929 - source.data - INFO - Feature: LevenshteinRatio calculated.\n",
      "2022-07-25 17:24:18,929 - source.data - INFO - Feature: LevenshteinRatio calculated.\n",
      "2022-07-25 17:24:18,929 - source.data - INFO - Feature: LevenshteinRatio calculated.\n",
      "2022-07-25 17:24:18,929 - source.data - INFO - Feature: LevenshteinRatio calculated.\n",
      "2022-07-25 17:24:18,929 - source.data - INFO - Feature: LevenshteinRatio calculated.\n",
      "2022-07-25 17:24:18,935 - source.data - INFO - Calculating feature: WordLengthRatio\n",
      "2022-07-25 17:24:18,935 - source.data - INFO - Calculating feature: WordLengthRatio\n",
      "2022-07-25 17:24:18,935 - source.data - INFO - Calculating feature: WordLengthRatio\n",
      "2022-07-25 17:24:18,935 - source.data - INFO - Calculating feature: WordLengthRatio\n",
      "2022-07-25 17:24:18,935 - source.data - INFO - Calculating feature: WordLengthRatio\n",
      "2022-07-25 17:24:18,935 - source.data - INFO - Calculating feature: WordLengthRatio\n",
      "2022-07-25 17:24:18,935 - source.data - INFO - Calculating feature: WordLengthRatio\n",
      "2022-07-25 17:24:18,935 - source.data - INFO - Calculating feature: WordLengthRatio\n"
     ]
    },
    {
     "data": {
      "text/plain": "  0%|          | 0/359 [00:00<?, ?ex/s]",
      "application/vnd.jupyter.widget-view+json": {
       "version_major": 2,
       "version_minor": 0,
       "model_id": "a809e2a695844f31bd8ead41e479e228"
      }
     },
     "metadata": {},
     "output_type": "display_data"
    },
    {
     "name": "stderr",
     "output_type": "stream",
     "text": [
      "2022-07-25 17:24:19,013 - source.data - INFO - Feature: WordLengthRatio calculated.\n",
      "2022-07-25 17:24:19,013 - source.data - INFO - Feature: WordLengthRatio calculated.\n",
      "2022-07-25 17:24:19,013 - source.data - INFO - Feature: WordLengthRatio calculated.\n",
      "2022-07-25 17:24:19,013 - source.data - INFO - Feature: WordLengthRatio calculated.\n",
      "2022-07-25 17:24:19,013 - source.data - INFO - Feature: WordLengthRatio calculated.\n",
      "2022-07-25 17:24:19,013 - source.data - INFO - Feature: WordLengthRatio calculated.\n",
      "2022-07-25 17:24:19,013 - source.data - INFO - Feature: WordLengthRatio calculated.\n",
      "2022-07-25 17:24:19,013 - source.data - INFO - Feature: WordLengthRatio calculated.\n"
     ]
    },
    {
     "data": {
      "text/plain": "  0%|          | 0/359 [00:00<?, ?ex/s]",
      "application/vnd.jupyter.widget-view+json": {
       "version_major": 2,
       "version_minor": 0,
       "model_id": "65399923b5be46888bac03b3698f8601"
      }
     },
     "metadata": {},
     "output_type": "display_data"
    },
    {
     "name": "stderr",
     "output_type": "stream",
     "text": [
      "2022-07-25 17:24:19,087 - source.data - INFO - Example:{'original_text': 'one side of the armed conflicts is composed mainly of the sudanese military and the janjaweed , a sudanese militia group recruited mostly from the afro-arab abbala tribes of the northern rizeigat region in sudan .', 'simple_text_valid_0': 'who is involved in the conflict one side of the conflict is composed mainly of the janjaweed , a militia group recruited from the arab tribes who move from place to place herding camels .', 'original_text_preprocessed': 'simplify: CLR_0.6 DTDR_0.95 LMFMR_0.75 LR_0.6 WLR_0.75 one side of the armed conflicts is composed mainly of the sudanese military and the janjaweed , a sudanese militia group recruited mostly from the afro-arab abbala tribes of the northern rizeigat region in sudan .'}\n",
      "2022-07-25 17:24:19,087 - source.data - INFO - Example:{'original_text': 'one side of the armed conflicts is composed mainly of the sudanese military and the janjaweed , a sudanese militia group recruited mostly from the afro-arab abbala tribes of the northern rizeigat region in sudan .', 'simple_text_valid_0': 'who is involved in the conflict one side of the conflict is composed mainly of the janjaweed , a militia group recruited from the arab tribes who move from place to place herding camels .', 'original_text_preprocessed': 'simplify: CLR_0.6 DTDR_0.95 LMFMR_0.75 LR_0.6 WLR_0.75 one side of the armed conflicts is composed mainly of the sudanese military and the janjaweed , a sudanese militia group recruited mostly from the afro-arab abbala tribes of the northern rizeigat region in sudan .'}\n",
      "2022-07-25 17:24:19,087 - source.data - INFO - Example:{'original_text': 'one side of the armed conflicts is composed mainly of the sudanese military and the janjaweed , a sudanese militia group recruited mostly from the afro-arab abbala tribes of the northern rizeigat region in sudan .', 'simple_text_valid_0': 'who is involved in the conflict one side of the conflict is composed mainly of the janjaweed , a militia group recruited from the arab tribes who move from place to place herding camels .', 'original_text_preprocessed': 'simplify: CLR_0.6 DTDR_0.95 LMFMR_0.75 LR_0.6 WLR_0.75 one side of the armed conflicts is composed mainly of the sudanese military and the janjaweed , a sudanese militia group recruited mostly from the afro-arab abbala tribes of the northern rizeigat region in sudan .'}\n",
      "2022-07-25 17:24:19,087 - source.data - INFO - Example:{'original_text': 'one side of the armed conflicts is composed mainly of the sudanese military and the janjaweed , a sudanese militia group recruited mostly from the afro-arab abbala tribes of the northern rizeigat region in sudan .', 'simple_text_valid_0': 'who is involved in the conflict one side of the conflict is composed mainly of the janjaweed , a militia group recruited from the arab tribes who move from place to place herding camels .', 'original_text_preprocessed': 'simplify: CLR_0.6 DTDR_0.95 LMFMR_0.75 LR_0.6 WLR_0.75 one side of the armed conflicts is composed mainly of the sudanese military and the janjaweed , a sudanese militia group recruited mostly from the afro-arab abbala tribes of the northern rizeigat region in sudan .'}\n",
      "2022-07-25 17:24:19,087 - source.data - INFO - Example:{'original_text': 'one side of the armed conflicts is composed mainly of the sudanese military and the janjaweed , a sudanese militia group recruited mostly from the afro-arab abbala tribes of the northern rizeigat region in sudan .', 'simple_text_valid_0': 'who is involved in the conflict one side of the conflict is composed mainly of the janjaweed , a militia group recruited from the arab tribes who move from place to place herding camels .', 'original_text_preprocessed': 'simplify: CLR_0.6 DTDR_0.95 LMFMR_0.75 LR_0.6 WLR_0.75 one side of the armed conflicts is composed mainly of the sudanese military and the janjaweed , a sudanese militia group recruited mostly from the afro-arab abbala tribes of the northern rizeigat region in sudan .'}\n",
      "2022-07-25 17:24:19,087 - source.data - INFO - Example:{'original_text': 'one side of the armed conflicts is composed mainly of the sudanese military and the janjaweed , a sudanese militia group recruited mostly from the afro-arab abbala tribes of the northern rizeigat region in sudan .', 'simple_text_valid_0': 'who is involved in the conflict one side of the conflict is composed mainly of the janjaweed , a militia group recruited from the arab tribes who move from place to place herding camels .', 'original_text_preprocessed': 'simplify: CLR_0.6 DTDR_0.95 LMFMR_0.75 LR_0.6 WLR_0.75 one side of the armed conflicts is composed mainly of the sudanese military and the janjaweed , a sudanese militia group recruited mostly from the afro-arab abbala tribes of the northern rizeigat region in sudan .'}\n",
      "2022-07-25 17:24:19,087 - source.data - INFO - Example:{'original_text': 'one side of the armed conflicts is composed mainly of the sudanese military and the janjaweed , a sudanese militia group recruited mostly from the afro-arab abbala tribes of the northern rizeigat region in sudan .', 'simple_text_valid_0': 'who is involved in the conflict one side of the conflict is composed mainly of the janjaweed , a militia group recruited from the arab tribes who move from place to place herding camels .', 'original_text_preprocessed': 'simplify: CLR_0.6 DTDR_0.95 LMFMR_0.75 LR_0.6 WLR_0.75 one side of the armed conflicts is composed mainly of the sudanese military and the janjaweed , a sudanese militia group recruited mostly from the afro-arab abbala tribes of the northern rizeigat region in sudan .'}\n",
      "2022-07-25 17:24:19,087 - source.data - INFO - Example:{'original_text': 'one side of the armed conflicts is composed mainly of the sudanese military and the janjaweed , a sudanese militia group recruited mostly from the afro-arab abbala tribes of the northern rizeigat region in sudan .', 'simple_text_valid_0': 'who is involved in the conflict one side of the conflict is composed mainly of the janjaweed , a militia group recruited from the arab tribes who move from place to place herding camels .', 'original_text_preprocessed': 'simplify: CLR_0.6 DTDR_0.95 LMFMR_0.75 LR_0.6 WLR_0.75 one side of the armed conflicts is composed mainly of the sudanese military and the janjaweed , a sudanese militia group recruited mostly from the afro-arab abbala tribes of the northern rizeigat region in sudan .'}\n",
      "2022-07-25 17:24:19,094 - source.data - INFO - Features calculated previously. Loading preprocessed dataset at: C:\\Users\\Antonio\\PycharmProjects\\Simplification_experiments\\resources\\preprocessed_data\\turkcorpus\\CLR_DTDR_LMFMR_LR_WLR_5\n",
      "2022-07-25 17:24:19,094 - source.data - INFO - Features calculated previously. Loading preprocessed dataset at: C:\\Users\\Antonio\\PycharmProjects\\Simplification_experiments\\resources\\preprocessed_data\\turkcorpus\\CLR_DTDR_LMFMR_LR_WLR_5\n",
      "2022-07-25 17:24:19,094 - source.data - INFO - Features calculated previously. Loading preprocessed dataset at: C:\\Users\\Antonio\\PycharmProjects\\Simplification_experiments\\resources\\preprocessed_data\\turkcorpus\\CLR_DTDR_LMFMR_LR_WLR_5\n",
      "2022-07-25 17:24:19,094 - source.data - INFO - Features calculated previously. Loading preprocessed dataset at: C:\\Users\\Antonio\\PycharmProjects\\Simplification_experiments\\resources\\preprocessed_data\\turkcorpus\\CLR_DTDR_LMFMR_LR_WLR_5\n",
      "2022-07-25 17:24:19,094 - source.data - INFO - Features calculated previously. Loading preprocessed dataset at: C:\\Users\\Antonio\\PycharmProjects\\Simplification_experiments\\resources\\preprocessed_data\\turkcorpus\\CLR_DTDR_LMFMR_LR_WLR_5\n",
      "2022-07-25 17:24:19,094 - source.data - INFO - Features calculated previously. Loading preprocessed dataset at: C:\\Users\\Antonio\\PycharmProjects\\Simplification_experiments\\resources\\preprocessed_data\\turkcorpus\\CLR_DTDR_LMFMR_LR_WLR_5\n",
      "2022-07-25 17:24:19,094 - source.data - INFO - Features calculated previously. Loading preprocessed dataset at: C:\\Users\\Antonio\\PycharmProjects\\Simplification_experiments\\resources\\preprocessed_data\\turkcorpus\\CLR_DTDR_LMFMR_LR_WLR_5\n",
      "2022-07-25 17:24:19,094 - source.data - INFO - Features calculated previously. Loading preprocessed dataset at: C:\\Users\\Antonio\\PycharmProjects\\Simplification_experiments\\resources\\preprocessed_data\\turkcorpus\\CLR_DTDR_LMFMR_LR_WLR_5\n",
      "2022-07-25 17:24:19,104 - source.data - INFO - Tokenizing dataset\n",
      "2022-07-25 17:24:19,104 - source.data - INFO - Tokenizing dataset\n",
      "2022-07-25 17:24:19,104 - source.data - INFO - Tokenizing dataset\n",
      "2022-07-25 17:24:19,104 - source.data - INFO - Tokenizing dataset\n",
      "2022-07-25 17:24:19,104 - source.data - INFO - Tokenizing dataset\n",
      "2022-07-25 17:24:19,104 - source.data - INFO - Tokenizing dataset\n",
      "2022-07-25 17:24:19,104 - source.data - INFO - Tokenizing dataset\n",
      "2022-07-25 17:24:19,104 - source.data - INFO - Tokenizing dataset\n"
     ]
    },
    {
     "data": {
      "text/plain": "  0%|          | 0/1 [00:00<?, ?ba/s]",
      "application/vnd.jupyter.widget-view+json": {
       "version_major": 2,
       "version_minor": 0,
       "model_id": "17c9203cba45452d95ead899a64dd778"
      }
     },
     "metadata": {},
     "output_type": "display_data"
    },
    {
     "data": {
      "text/plain": "  0%|          | 0/1 [00:00<?, ?ba/s]",
      "application/vnd.jupyter.widget-view+json": {
       "version_major": 2,
       "version_minor": 0,
       "model_id": "a39efef64b02435eb5efd8bc8cdf36b1"
      }
     },
     "metadata": {},
     "output_type": "display_data"
    },
    {
     "data": {
      "text/plain": "  0%|          | 0/50 [00:00<?, ?ex/s]",
      "application/vnd.jupyter.widget-view+json": {
       "version_major": 2,
       "version_minor": 0,
       "model_id": "cbfa6b4f740d42d5a23ad922bae0a4b6"
      }
     },
     "metadata": {},
     "output_type": "display_data"
    }
   ],
   "source": [
    "dm.setup()"
   ],
   "metadata": {
    "collapsed": false,
    "pycharm": {
     "name": "#%%\n"
    }
   }
  },
  {
   "cell_type": "code",
   "execution_count": 54,
   "outputs": [],
   "source": [],
   "metadata": {
    "collapsed": false,
    "pycharm": {
     "name": "#%%\n"
    }
   }
  }
 ],
 "metadata": {
  "kernelspec": {
   "display_name": "Python 3",
   "language": "python",
   "name": "python3"
  },
  "language_info": {
   "codemirror_mode": {
    "name": "ipython",
    "version": 2
   },
   "file_extension": ".py",
   "mimetype": "text/x-python",
   "name": "python",
   "nbconvert_exporter": "python",
   "pygments_lexer": "ipython2",
   "version": "2.7.6"
  }
 },
 "nbformat": 4,
 "nbformat_minor": 0
}