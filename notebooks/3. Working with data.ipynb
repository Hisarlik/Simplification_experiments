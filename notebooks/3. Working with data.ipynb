{
 "cells": [
  {
   "cell_type": "code",
   "execution_count": null,
   "metadata": {
    "pycharm": {
     "name": "#%%\n"
    }
   },
   "outputs": [],
   "source": [
    "%load_ext autoreload\n",
    "%autoreload 2"
   ]
  },
  {
   "cell_type": "code",
   "execution_count": null,
   "metadata": {
    "pycharm": {
     "name": "#%%\n"
    }
   },
   "outputs": [],
   "source": [
    "from source.data import SimplificationDataModule\n",
    "from conf import TURKCORPUS_DATASET"
   ]
  },
  {
   "cell_type": "code",
   "execution_count": null,
   "metadata": {
    "pycharm": {
     "name": "#%%\n"
    }
   },
   "outputs": [],
   "source": [
    "config = dict(\n",
    "        model_name='t5-small',\n",
    "        dataset_path=TURKCORPUS_DATASET,\n",
    "        number_epochs=1,\n",
    "        max_seq_length=256,\n",
    "        learning_rate=3e-4,\n",
    "        weight_decay=0.1,\n",
    "        adam_epsilon=1e-8,\n",
    "        warmup_steps=5,\n",
    "        train_batch_size=6,\n",
    "        valid_batch_size=6,\n",
    "        custom_loss=False,\n",
    "        gradient_accumulation_steps=1,\n",
    "        accelerator=\"gpu\",\n",
    "        fp_16=False,\n",
    "        opt_level='O1',\n",
    "        max_grad_norm=1.0,\n",
    "        seed=42,\n",
    "        nb_sanity_val_steps=0,\n",
    "        train_sample_size=1,\n",
    "        valid_sample_size=1,\n",
    "        device=\"cuda\"                   # \"cuda\" or \"cpu\"\n",
    "    )"
   ]
  },
  {
   "cell_type": "code",
   "execution_count": null,
   "metadata": {
    "pycharm": {
     "name": "#%%\n"
    }
   },
   "outputs": [],
   "source": [
    "features = dict(\n",
    "        WordLengthRatio=dict(target_ratio=0.75),\n",
    "        CharLengthRatio=dict(target_ratio=0.6),\n",
    "        LevenshteinRatio=dict(target_ratio=0.6),\n",
    "        DependencyTreeDepthRatio=dict(target_ratio=0.95),\n",
    "        LMFillMaskRatio=dict(target_ratio=0.75)\n",
    "    )"
   ]
  },
  {
   "cell_type": "code",
   "execution_count": null,
   "metadata": {
    "pycharm": {
     "name": "#%%\n"
    }
   },
   "outputs": [],
   "source": [
    "dm = SimplificationDataModule(config.get(\"model_name\"),\n",
    "                              config.get(\"dataset_path\"),\n",
    "                              features,\n",
    "                              config.get(\"max_seq_length\"),\n",
    "                              config.get(\"train_batch_size\"),\n",
    "                              config.get(\"valid_batch_size\")\n",
    "                            )"
   ]
  },
  {
   "cell_type": "code",
   "execution_count": null,
   "metadata": {
    "pycharm": {
     "name": "#%%\n"
    }
   },
   "outputs": [],
   "source": [
    "dm.setup()"
   ]
  },
  {
   "cell_type": "code",
   "execution_count": null,
   "metadata": {
    "pycharm": {
     "name": "#%%\n"
    }
   },
   "outputs": [],
   "source": []
  }
 ],
 "metadata": {
  "kernelspec": {
   "display_name": "Python 3 (ipykernel)",
   "language": "python",
   "name": "python3"
  },
  "language_info": {
   "codemirror_mode": {
    "name": "ipython",
    "version": 3
   },
   "file_extension": ".py",
   "mimetype": "text/x-python",
   "name": "python",
   "nbconvert_exporter": "python",
   "pygments_lexer": "ipython3",
   "version": "3.9.13"
  }
 },
 "nbformat": 4,
 "nbformat_minor": 1
}