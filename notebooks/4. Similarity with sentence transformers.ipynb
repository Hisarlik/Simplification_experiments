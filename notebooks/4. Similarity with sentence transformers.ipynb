{
 "cells": [
  {
   "cell_type": "code",
   "execution_count": 1,
   "outputs": [],
   "source": [
    "from datasets import load_dataset,load_from_disk\n",
    "from sentence_transformers import SentenceTransformer, util\n",
    "from pyarrow import json\n",
    "from pathlib import Path\n",
    "import pyarrow as pa\n",
    "from datasets import load_dataset,load_from_disk\n",
    "import numpy as np"
   ],
   "metadata": {
    "collapsed": false
   }
  },
  {
   "cell_type": "code",
   "execution_count": 2,
   "outputs": [],
   "source": [
    "experiments_root = Path('../resources/preprocessed_data/wikilarge_original')"
   ],
   "metadata": {
    "collapsed": false
   }
  },
  {
   "cell_type": "code",
   "execution_count": null,
   "outputs": [],
   "source": [
    "data = load_from_disk(experiments_root)"
   ],
   "metadata": {
    "collapsed": false
   }
  },
  {
   "cell_type": "code",
   "execution_count": null,
   "outputs": [],
   "source": [
    "data"
   ],
   "metadata": {
    "collapsed": false
   }
  },
  {
   "cell_type": "code",
   "execution_count": null,
   "outputs": [],
   "source": [
    "#data = data.select(range(1000))"
   ],
   "metadata": {
    "collapsed": false
   }
  },
  {
   "cell_type": "code",
   "execution_count": null,
   "outputs": [],
   "source": [
    "model = SentenceTransformer('all-MiniLM-L6-v2')\n",
    "def calculate_similarity(row):\n",
    "    embeddings1 = model.encode(row['original_text'], convert_to_tensor=True)\n",
    "    embeddings2 = model.encode(row['simple_text'], convert_to_tensor=True)\n",
    "    cosine_scores = util.cos_sim(embeddings1, embeddings2)\n",
    "    row['similarity'] = cosine_scores[0][0].detach().cpu().item()\n",
    "    print(row)\n",
    "    return row"
   ],
   "metadata": {
    "collapsed": false
   }
  },
  {
   "cell_type": "code",
   "execution_count": null,
   "outputs": [],
   "source": [
    "data = data.map(calculate_similarity)"
   ],
   "metadata": {
    "collapsed": false
   }
  },
  {
   "cell_type": "code",
   "execution_count": null,
   "outputs": [],
   "source": [
    "data.save_to_disk('../resources/preprocessed_data/wikilarge_sim')"
   ],
   "metadata": {
    "collapsed": false
   }
  },
  {
   "cell_type": "code",
   "execution_count": null,
   "outputs": [],
   "source": [
    "data"
   ],
   "metadata": {
    "collapsed": false
   }
  },
  {
   "cell_type": "markdown",
   "source": [],
   "metadata": {
    "collapsed": false
   }
  },
  {
   "cell_type": "markdown",
   "source": [
    "Experiments with different values of similarity"
   ],
   "metadata": {
    "collapsed": false
   }
  },
  {
   "cell_type": "code",
   "execution_count": 2,
   "outputs": [],
   "source": [
    "data = load_from_disk('../resources/preprocessed_data/wikilarge_sim')"
   ],
   "metadata": {
    "collapsed": false
   }
  },
  {
   "cell_type": "code",
   "execution_count": 3,
   "outputs": [
    {
     "data": {
      "text/plain": "Dataset({\n    features: ['original_text', 'simple_text', 'original_text_preprocessed', 'WLR', 'CLR', 'LR', 'DTDR', 'WRR', 'LMFMR', 'similarity'],\n    num_rows: 296402\n})"
     },
     "execution_count": 3,
     "metadata": {},
     "output_type": "execute_result"
    }
   ],
   "source": [
    "data"
   ],
   "metadata": {
    "collapsed": false
   }
  },
  {
   "cell_type": "code",
   "execution_count": 4,
   "outputs": [],
   "source": [
    "data_df = data.to_pandas()"
   ],
   "metadata": {
    "collapsed": false
   }
  },
  {
   "cell_type": "code",
   "execution_count": 5,
   "outputs": [
    {
     "data": {
      "text/plain": "                                            original_text  \\\n0       There is manuscript evidence that Austen conti...   \n1       In a remarkable comparative analysis , Mandaea...   \n2       Before Persephone was released to Hermes , who...   \n3       Cogeneration plants are commonly found in dist...   \n4       Geneva -LRB- , ; , ; , ; ; -RRB- is the second...   \n...                                                   ...   \n296397  These structures form at the high-pressure dep...   \n296398  Saint-Maixant is a commune in the Gironde depa...   \n296399  The Hollywood Walk of Fame is a series of side...   \n296400  Boulogne-Billancourt is the most populous subu...   \n296401  Overall , Juventus have won 51 official compet...   \n\n                                              simple_text  \\\n0       There is some proof that Austen continued to w...   \n1       Mandaean scholar Säve-Söderberg showed that Ma...   \n2       When Demeter went to the Underworld to rescue ...   \n3       Cogeneration plants are commonly found in dist...   \n4       The city 's main newspaper is the Tribune de G...   \n...                                                   ...   \n296397  These structures form at the high-pressure dep...   \n296398  Saint-Maixant , Gironde is a commune . It is f...   \n296399             There are many stars on the sidewalk .   \n296400  Consequently , Boulogne-Billancourt is one of ...   \n296401  The club is the most successful team in the hi...   \n\n       original_text_preprocessed   WLR   CLR    LR  DTDR   WRR  LMFMR  \\\n0                                  0.89  0.91  0.68  0.86  0.92   0.69   \n1                                  0.75  0.71  0.81  1.00  0.99   1.47   \n2                                  0.96  0.93  0.51  0.44  1.01   1.60   \n3                                  1.03  1.01  0.98  1.00  1.01   1.11   \n4                                  0.89  0.77  0.33  1.50  0.97   7.17   \n...                           ...   ...   ...   ...   ...   ...    ...   \n296397                             1.05  1.03  0.96  1.20  1.00   1.23   \n296398                             1.71  1.42  0.70  1.00  0.81   0.94   \n296399                             0.16  0.13  0.20  0.44  0.97   1.00   \n296400                             0.74  0.81  0.76  0.86  0.97   1.00   \n296401                             0.93  0.82  0.57  1.17  0.96   0.54   \n\n        similarity  \n0         0.937799  \n1         0.972845  \n2         0.780261  \n3         0.997548  \n4         0.008508  \n...            ...  \n296397    0.993901  \n296398    0.942673  \n296399    0.528221  \n296400    0.887207  \n296401    0.773406  \n\n[296402 rows x 10 columns]",
      "text/html": "<div>\n<style scoped>\n    .dataframe tbody tr th:only-of-type {\n        vertical-align: middle;\n    }\n\n    .dataframe tbody tr th {\n        vertical-align: top;\n    }\n\n    .dataframe thead th {\n        text-align: right;\n    }\n</style>\n<table border=\"1\" class=\"dataframe\">\n  <thead>\n    <tr style=\"text-align: right;\">\n      <th></th>\n      <th>original_text</th>\n      <th>simple_text</th>\n      <th>original_text_preprocessed</th>\n      <th>WLR</th>\n      <th>CLR</th>\n      <th>LR</th>\n      <th>DTDR</th>\n      <th>WRR</th>\n      <th>LMFMR</th>\n      <th>similarity</th>\n    </tr>\n  </thead>\n  <tbody>\n    <tr>\n      <th>0</th>\n      <td>There is manuscript evidence that Austen conti...</td>\n      <td>There is some proof that Austen continued to w...</td>\n      <td></td>\n      <td>0.89</td>\n      <td>0.91</td>\n      <td>0.68</td>\n      <td>0.86</td>\n      <td>0.92</td>\n      <td>0.69</td>\n      <td>0.937799</td>\n    </tr>\n    <tr>\n      <th>1</th>\n      <td>In a remarkable comparative analysis , Mandaea...</td>\n      <td>Mandaean scholar Säve-Söderberg showed that Ma...</td>\n      <td></td>\n      <td>0.75</td>\n      <td>0.71</td>\n      <td>0.81</td>\n      <td>1.00</td>\n      <td>0.99</td>\n      <td>1.47</td>\n      <td>0.972845</td>\n    </tr>\n    <tr>\n      <th>2</th>\n      <td>Before Persephone was released to Hermes , who...</td>\n      <td>When Demeter went to the Underworld to rescue ...</td>\n      <td></td>\n      <td>0.96</td>\n      <td>0.93</td>\n      <td>0.51</td>\n      <td>0.44</td>\n      <td>1.01</td>\n      <td>1.60</td>\n      <td>0.780261</td>\n    </tr>\n    <tr>\n      <th>3</th>\n      <td>Cogeneration plants are commonly found in dist...</td>\n      <td>Cogeneration plants are commonly found in dist...</td>\n      <td></td>\n      <td>1.03</td>\n      <td>1.01</td>\n      <td>0.98</td>\n      <td>1.00</td>\n      <td>1.01</td>\n      <td>1.11</td>\n      <td>0.997548</td>\n    </tr>\n    <tr>\n      <th>4</th>\n      <td>Geneva -LRB- , ; , ; , ; ; -RRB- is the second...</td>\n      <td>The city 's main newspaper is the Tribune de G...</td>\n      <td></td>\n      <td>0.89</td>\n      <td>0.77</td>\n      <td>0.33</td>\n      <td>1.50</td>\n      <td>0.97</td>\n      <td>7.17</td>\n      <td>0.008508</td>\n    </tr>\n    <tr>\n      <th>...</th>\n      <td>...</td>\n      <td>...</td>\n      <td>...</td>\n      <td>...</td>\n      <td>...</td>\n      <td>...</td>\n      <td>...</td>\n      <td>...</td>\n      <td>...</td>\n      <td>...</td>\n    </tr>\n    <tr>\n      <th>296397</th>\n      <td>These structures form at the high-pressure dep...</td>\n      <td>These structures form at the high-pressure dep...</td>\n      <td></td>\n      <td>1.05</td>\n      <td>1.03</td>\n      <td>0.96</td>\n      <td>1.20</td>\n      <td>1.00</td>\n      <td>1.23</td>\n      <td>0.993901</td>\n    </tr>\n    <tr>\n      <th>296398</th>\n      <td>Saint-Maixant is a commune in the Gironde depa...</td>\n      <td>Saint-Maixant , Gironde is a commune . It is f...</td>\n      <td></td>\n      <td>1.71</td>\n      <td>1.42</td>\n      <td>0.70</td>\n      <td>1.00</td>\n      <td>0.81</td>\n      <td>0.94</td>\n      <td>0.942673</td>\n    </tr>\n    <tr>\n      <th>296399</th>\n      <td>The Hollywood Walk of Fame is a series of side...</td>\n      <td>There are many stars on the sidewalk .</td>\n      <td></td>\n      <td>0.16</td>\n      <td>0.13</td>\n      <td>0.20</td>\n      <td>0.44</td>\n      <td>0.97</td>\n      <td>1.00</td>\n      <td>0.528221</td>\n    </tr>\n    <tr>\n      <th>296400</th>\n      <td>Boulogne-Billancourt is the most populous subu...</td>\n      <td>Consequently , Boulogne-Billancourt is one of ...</td>\n      <td></td>\n      <td>0.74</td>\n      <td>0.81</td>\n      <td>0.76</td>\n      <td>0.86</td>\n      <td>0.97</td>\n      <td>1.00</td>\n      <td>0.887207</td>\n    </tr>\n    <tr>\n      <th>296401</th>\n      <td>Overall , Juventus have won 51 official compet...</td>\n      <td>The club is the most successful team in the hi...</td>\n      <td></td>\n      <td>0.93</td>\n      <td>0.82</td>\n      <td>0.57</td>\n      <td>1.17</td>\n      <td>0.96</td>\n      <td>0.54</td>\n      <td>0.773406</td>\n    </tr>\n  </tbody>\n</table>\n<p>296402 rows × 10 columns</p>\n</div>"
     },
     "execution_count": 5,
     "metadata": {},
     "output_type": "execute_result"
    }
   ],
   "source": [
    "data_df"
   ],
   "metadata": {
    "collapsed": false
   }
  },
  {
   "cell_type": "code",
   "execution_count": 6,
   "outputs": [],
   "source": [
    "data_test = data_df[(data_df['similarity'] > 0.9)]"
   ],
   "metadata": {
    "collapsed": false
   }
  },
  {
   "cell_type": "code",
   "execution_count": 7,
   "outputs": [
    {
     "data": {
      "text/plain": "                                            original_text  \\\n0       There is manuscript evidence that Austen conti...   \n1       In a remarkable comparative analysis , Mandaea...   \n3       Cogeneration plants are commonly found in dist...   \n5       When Japan earned another race on the F1 sched...   \n6       This marked the first motorcycle racing event ...   \n...                                                   ...   \n296388  After Kittanning merged with Wickboro , an est...   \n296390  At 37 metres , it is the tallest lighthouse on...   \n296394  Le Wast is a commune in the Pas-de-Calais depa...   \n296397  These structures form at the high-pressure dep...   \n296398  Saint-Maixant is a commune in the Gironde depa...   \n\n                                              simple_text  \\\n0       There is some proof that Austen continued to w...   \n1       Mandaean scholar Säve-Söderberg showed that Ma...   \n3       Cogeneration plants are commonly found in dist...   \n5       When Japan was added back to the F1 schedule t...   \n6       This was the first motorcycle racing event at ...   \n...                                                   ...   \n296388  After Wickboro became part of Kittanning , an ...   \n296390  With 37 metres of height it is the tallest lig...   \n296394  Le Wast is a commune . It is found in the regi...   \n296397  These structures form at the high-pressure dep...   \n296398  Saint-Maixant , Gironde is a commune . It is f...   \n\n       original_text_preprocessed   WLR   CLR    LR  DTDR   WRR  LMFMR  \\\n0                                  0.89  0.91  0.68  0.86  0.92   0.69   \n1                                  0.75  0.71  0.81  1.00  0.99   1.47   \n3                                  1.03  1.01  0.98  1.00  1.01   1.11   \n5                                  1.00  0.95  0.89  1.00  0.94   0.75   \n6                                  1.00  0.97  0.97  1.00  0.97   1.13   \n...                           ...   ...   ...   ...   ...   ...    ...   \n296388                             1.06  1.00  0.72  1.25  0.90   0.07   \n296390                             1.07  1.14  0.91  1.00  0.99   1.00   \n296394                             1.44  1.28  0.71  0.86  0.82   1.00   \n296397                             1.05  1.03  0.96  1.20  1.00   1.23   \n296398                             1.71  1.42  0.70  1.00  0.81   0.94   \n\n        similarity  \n0         0.937799  \n1         0.972845  \n3         0.997548  \n5         0.953728  \n6         0.990993  \n...            ...  \n296388    0.955896  \n296390    0.986154  \n296394    0.970736  \n296397    0.993901  \n296398    0.942673  \n\n[103321 rows x 10 columns]",
      "text/html": "<div>\n<style scoped>\n    .dataframe tbody tr th:only-of-type {\n        vertical-align: middle;\n    }\n\n    .dataframe tbody tr th {\n        vertical-align: top;\n    }\n\n    .dataframe thead th {\n        text-align: right;\n    }\n</style>\n<table border=\"1\" class=\"dataframe\">\n  <thead>\n    <tr style=\"text-align: right;\">\n      <th></th>\n      <th>original_text</th>\n      <th>simple_text</th>\n      <th>original_text_preprocessed</th>\n      <th>WLR</th>\n      <th>CLR</th>\n      <th>LR</th>\n      <th>DTDR</th>\n      <th>WRR</th>\n      <th>LMFMR</th>\n      <th>similarity</th>\n    </tr>\n  </thead>\n  <tbody>\n    <tr>\n      <th>0</th>\n      <td>There is manuscript evidence that Austen conti...</td>\n      <td>There is some proof that Austen continued to w...</td>\n      <td></td>\n      <td>0.89</td>\n      <td>0.91</td>\n      <td>0.68</td>\n      <td>0.86</td>\n      <td>0.92</td>\n      <td>0.69</td>\n      <td>0.937799</td>\n    </tr>\n    <tr>\n      <th>1</th>\n      <td>In a remarkable comparative analysis , Mandaea...</td>\n      <td>Mandaean scholar Säve-Söderberg showed that Ma...</td>\n      <td></td>\n      <td>0.75</td>\n      <td>0.71</td>\n      <td>0.81</td>\n      <td>1.00</td>\n      <td>0.99</td>\n      <td>1.47</td>\n      <td>0.972845</td>\n    </tr>\n    <tr>\n      <th>3</th>\n      <td>Cogeneration plants are commonly found in dist...</td>\n      <td>Cogeneration plants are commonly found in dist...</td>\n      <td></td>\n      <td>1.03</td>\n      <td>1.01</td>\n      <td>0.98</td>\n      <td>1.00</td>\n      <td>1.01</td>\n      <td>1.11</td>\n      <td>0.997548</td>\n    </tr>\n    <tr>\n      <th>5</th>\n      <td>When Japan earned another race on the F1 sched...</td>\n      <td>When Japan was added back to the F1 schedule t...</td>\n      <td></td>\n      <td>1.00</td>\n      <td>0.95</td>\n      <td>0.89</td>\n      <td>1.00</td>\n      <td>0.94</td>\n      <td>0.75</td>\n      <td>0.953728</td>\n    </tr>\n    <tr>\n      <th>6</th>\n      <td>This marked the first motorcycle racing event ...</td>\n      <td>This was the first motorcycle racing event at ...</td>\n      <td></td>\n      <td>1.00</td>\n      <td>0.97</td>\n      <td>0.97</td>\n      <td>1.00</td>\n      <td>0.97</td>\n      <td>1.13</td>\n      <td>0.990993</td>\n    </tr>\n    <tr>\n      <th>...</th>\n      <td>...</td>\n      <td>...</td>\n      <td>...</td>\n      <td>...</td>\n      <td>...</td>\n      <td>...</td>\n      <td>...</td>\n      <td>...</td>\n      <td>...</td>\n      <td>...</td>\n    </tr>\n    <tr>\n      <th>296388</th>\n      <td>After Kittanning merged with Wickboro , an est...</td>\n      <td>After Wickboro became part of Kittanning , an ...</td>\n      <td></td>\n      <td>1.06</td>\n      <td>1.00</td>\n      <td>0.72</td>\n      <td>1.25</td>\n      <td>0.90</td>\n      <td>0.07</td>\n      <td>0.955896</td>\n    </tr>\n    <tr>\n      <th>296390</th>\n      <td>At 37 metres , it is the tallest lighthouse on...</td>\n      <td>With 37 metres of height it is the tallest lig...</td>\n      <td></td>\n      <td>1.07</td>\n      <td>1.14</td>\n      <td>0.91</td>\n      <td>1.00</td>\n      <td>0.99</td>\n      <td>1.00</td>\n      <td>0.986154</td>\n    </tr>\n    <tr>\n      <th>296394</th>\n      <td>Le Wast is a commune in the Pas-de-Calais depa...</td>\n      <td>Le Wast is a commune . It is found in the regi...</td>\n      <td></td>\n      <td>1.44</td>\n      <td>1.28</td>\n      <td>0.71</td>\n      <td>0.86</td>\n      <td>0.82</td>\n      <td>1.00</td>\n      <td>0.970736</td>\n    </tr>\n    <tr>\n      <th>296397</th>\n      <td>These structures form at the high-pressure dep...</td>\n      <td>These structures form at the high-pressure dep...</td>\n      <td></td>\n      <td>1.05</td>\n      <td>1.03</td>\n      <td>0.96</td>\n      <td>1.20</td>\n      <td>1.00</td>\n      <td>1.23</td>\n      <td>0.993901</td>\n    </tr>\n    <tr>\n      <th>296398</th>\n      <td>Saint-Maixant is a commune in the Gironde depa...</td>\n      <td>Saint-Maixant , Gironde is a commune . It is f...</td>\n      <td></td>\n      <td>1.71</td>\n      <td>1.42</td>\n      <td>0.70</td>\n      <td>1.00</td>\n      <td>0.81</td>\n      <td>0.94</td>\n      <td>0.942673</td>\n    </tr>\n  </tbody>\n</table>\n<p>103321 rows × 10 columns</p>\n</div>"
     },
     "execution_count": 7,
     "metadata": {},
     "output_type": "execute_result"
    }
   ],
   "source": [
    "data_test"
   ],
   "metadata": {
    "collapsed": false
   }
  },
  {
   "cell_type": "code",
   "execution_count": 8,
   "outputs": [],
   "source": [
    "from datasets import Dataset"
   ],
   "metadata": {
    "collapsed": false
   }
  },
  {
   "cell_type": "code",
   "execution_count": 9,
   "outputs": [],
   "source": [
    "data_pandas = Dataset.from_pandas(data_test)"
   ],
   "metadata": {
    "collapsed": false
   }
  },
  {
   "cell_type": "code",
   "execution_count": 10,
   "outputs": [
    {
     "data": {
      "text/plain": "Dataset({\n    features: ['original_text', 'simple_text', 'original_text_preprocessed', 'WLR', 'CLR', 'LR', 'DTDR', 'WRR', 'LMFMR', 'similarity', '__index_level_0__'],\n    num_rows: 103321\n})"
     },
     "execution_count": 10,
     "metadata": {},
     "output_type": "execute_result"
    }
   ],
   "source": [
    "data_pandas"
   ],
   "metadata": {
    "collapsed": false
   }
  },
  {
   "cell_type": "code",
   "execution_count": 11,
   "outputs": [],
   "source": [
    "data_pandas = data_pandas.remove_columns('__index_level_0__')"
   ],
   "metadata": {
    "collapsed": false
   }
  },
  {
   "cell_type": "code",
   "execution_count": 12,
   "outputs": [
    {
     "data": {
      "text/plain": "Dataset({\n    features: ['original_text', 'simple_text', 'original_text_preprocessed', 'WLR', 'CLR', 'LR', 'DTDR', 'WRR', 'LMFMR', 'similarity'],\n    num_rows: 103321\n})"
     },
     "execution_count": 12,
     "metadata": {},
     "output_type": "execute_result"
    }
   ],
   "source": [
    "data_pandas"
   ],
   "metadata": {
    "collapsed": false
   }
  },
  {
   "cell_type": "code",
   "execution_count": 13,
   "outputs": [],
   "source": [
    "data_pandas.save_to_disk('../resources/preprocessed_data/wikilarge_sim0.9')"
   ],
   "metadata": {
    "collapsed": false
   }
  },
  {
   "cell_type": "code",
   "execution_count": null,
   "outputs": [],
   "source": [],
   "metadata": {
    "collapsed": false
   }
  }
 ],
 "metadata": {
  "kernelspec": {
   "display_name": "Python 3",
   "language": "python",
   "name": "python3"
  },
  "language_info": {
   "codemirror_mode": {
    "name": "ipython",
    "version": 2
   },
   "file_extension": ".py",
   "mimetype": "text/x-python",
   "name": "python",
   "nbconvert_exporter": "python",
   "pygments_lexer": "ipython2",
   "version": "2.7.6"
  }
 },
 "nbformat": 4,
 "nbformat_minor": 0
}
